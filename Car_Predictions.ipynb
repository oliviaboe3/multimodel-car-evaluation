{
 "cells": [
  {
   "cell_type": "markdown",
   "id": "dc7bb351-0348-48c8-9e6d-d0b817eb8e5c",
   "metadata": {},
   "source": [
    "# Car Classification Modeling and Evaluation"
   ]
  },
  {
   "cell_type": "markdown",
   "id": "e3a1d1c0-e706-42d4-8794-20069643d058",
   "metadata": {},
   "source": [
    "### Task"
   ]
  },
  {
   "cell_type": "markdown",
   "id": "5df9f8b5-2545-45e9-918d-39a793db6335",
   "metadata": {},
   "source": [
    "Download the dataset on car evaluations from http://archive.ics.uci.edu/ml/datasets/Car+Evaluation. \n",
    "\n",
    "Among the basic classification techniques that you are familiar with (i.e., decision tree, k-NN, logistic regression, NB, SVM) use all that would be applicable to this dataset to predict the evaluation of the cars based on their characteristics. Explore how well these techniques perform for several different parameter values. \n",
    "\n",
    "Present a brief overview of your predictive modeling process, explorations, and discuss your results. Present your final model (i.e., the best predictive model that you were able to come up with), and discuss its performance in a comprehensive manner (overall accuracy; per-class performance, i.e., whether this model predicts all classes equally well, or if there some classes for which it does much better than others; etc.).  "
   ]
  },
  {
   "cell_type": "markdown",
   "id": "2f24b482-d2f6-4d29-b14b-1890e4e870e4",
   "metadata": {},
   "source": [
    "### Process Overview"
   ]
  },
  {
   "cell_type": "markdown",
   "id": "42525f11-70d2-4b3f-8ef2-5a48bf1a1623",
   "metadata": {},
   "source": [
    "Problems present in the dataset:\n",
    "\n",
    "1)\tBinary vs Ordinal data\n",
    "2)\tMulticlass target variable\n",
    "3)\tImbalanced target variables\n",
    "\n",
    "Challenges to overcome:\n",
    "\n",
    "\t\tSelecting a metric when the data is imbalanced is difficult. Accuracy would not be an acceptable measurement for imbalanced data, it could predict every sample as the dominant class and would return a high accuracy score. For this dataset, the main metric of focus will be MCC which will give a more balanced view of how the model performs for all classes. MCC will help us to capture both types of errors for more reliability than accuracy as it will consider the entire confusion matrix. Using MCC with a second opinion from F1 will be beneficial for both binary and multiclass classification. \n",
    "        \n",
    "\t\tThe pros of changing the input variables to numerical are that some models are more compatible with models such as logistic regression, decision trees, and SVM. Additionally, the distance model (KNN) will be able to consider the ordinal information of which class is further from each other. Overall changing the numerical input variables is helpful for capturing relationships for ordinal data. The con of numerical encoding is that it may lose meaning in categorical data or have information loss. \n",
    "        \n",
    "\t\tThe pro to binary transformation is that it is simple and efficient when you have categorical data. It will work well with decision trees or other tree-based models. The major downside is that we may lose information in ordinal data. Additionally, multiclass variables tend to complicate the process, there can be misinterpretation along the way.\n",
    "        \n",
    "\t\tWith the multiclass target variable, there are different ways to run analysis. There is the one versus one method or one versus many. One versus one method would be more beneficial when the number of classes are small as it would turn out to be N*(N-2)/2. One versus many would be better for many classes in addition to unbalanced data sets. Since this dataset only has 4, one versus one would be more beneficial.\n",
    "\t\t\n",
    "Overview:\n",
    "\n",
    "    To build the best model, MCC is chosen as the priority metric while F1, Recall, and Precision are all considered second. Because of the imbalanced data, accuracy will not be an important metric. To start, the data will be split into training and testing sets. From there, the training data will be converted into two data sets: one for categorical classification (binary) and one for ordinal classification (numerical). I will run Decision Tree, KNN, SVM, logistic regression, and naïve bayes on both the binary and numerical data sets with nested CV. \n",
    "\n",
    "    As the data is moderately imbalanced, some models will need additional hyperparameters and pre-processing to help balance the dataset. KNN and logistic regression will use smote to help balance the dataset. SVM will use class weight to help with the imbalanced data. Additionally, all models were trained as one versus the rest, this is to help combat the imbalanced data. \n",
    "\n",
    "    Finally, I will select the best model from nested cross validation based off MCC scores. The best model will go through hyperparameter tuning and be tested on the remaining holdout data. \n"
   ]
  },
  {
   "cell_type": "markdown",
   "id": "3f73ba29-8efb-4dcd-8679-eca0d29a290e",
   "metadata": {},
   "source": [
    "## Import the data"
   ]
  },
  {
   "cell_type": "code",
   "execution_count": 7,
   "id": "df001bf8-2a5e-47aa-9ac0-6db02cb240c5",
   "metadata": {},
   "outputs": [],
   "source": [
    "# !pip install ucimlrepo"
   ]
  },
  {
   "cell_type": "code",
   "execution_count": 8,
   "id": "7ff4a3e8-66c3-433e-ad52-95858adce1f7",
   "metadata": {},
   "outputs": [
    {
     "name": "stdout",
     "output_type": "stream",
     "text": [
      "       name     role         type demographic  \\\n",
      "0    buying  Feature  Categorical        None   \n",
      "1     maint  Feature  Categorical        None   \n",
      "2     doors  Feature  Categorical        None   \n",
      "3   persons  Feature  Categorical        None   \n",
      "4  lug_boot  Feature  Categorical        None   \n",
      "5    safety  Feature  Categorical        None   \n",
      "6     class   Target  Categorical        None   \n",
      "\n",
      "                                         description units missing_values  \n",
      "0                                       buying price  None             no  \n",
      "1                           price of the maintenance  None             no  \n",
      "2                                    number of doors  None             no  \n",
      "3              capacity in terms of persons to carry  None             no  \n",
      "4                           the size of luggage boot  None             no  \n",
      "5                        estimated safety of the car  None             no  \n",
      "6  evaulation level (unacceptable, acceptable, go...  None             no  \n"
     ]
    }
   ],
   "source": [
    "from ucimlrepo import fetch_ucirepo \n",
    "  \n",
    "# fetch dataset \n",
    "car_evaluation = fetch_ucirepo(id=19) \n",
    "  \n",
    "# data (as pandas dataframes) \n",
    "X = car_evaluation.data.features \n",
    "y = car_evaluation.data.targets \n",
    "  \n",
    "# variable information \n",
    "print(car_evaluation.variables) "
   ]
  },
  {
   "cell_type": "markdown",
   "id": "cc41ebf0-bb97-44e8-8a02-108f2faf9cf3",
   "metadata": {},
   "source": [
    "#### | class values\n",
    "\n",
    "unacc, acc, good, vgood\n",
    "\n",
    "#### | attributes\n",
    "\n",
    "buying:   vhigh, high, med, low.\n",
    "\n",
    "maint:    vhigh, high, med, low.\n",
    "\n",
    "doors:    2, 3, 4, 5more.\n",
    "\n",
    "persons:  2, 4, more.\n",
    "\n",
    "lug_boot: small, med, big.\n",
    "\n",
    "safety:   low, med, high.\n"
   ]
  },
  {
   "cell_type": "markdown",
   "id": "600b814d-b025-4543-901e-5dc37577606d",
   "metadata": {},
   "source": [
    "## Inspect Data for Null Values and Inconsistencties"
   ]
  },
  {
   "cell_type": "code",
   "execution_count": 11,
   "id": "b085d49b-cf71-4f57-ace1-af0c814fcf95",
   "metadata": {},
   "outputs": [
    {
     "name": "stdout",
     "output_type": "stream",
     "text": [
      "x: buying      0\n",
      "maint       0\n",
      "doors       0\n",
      "persons     0\n",
      "lug_boot    0\n",
      "safety      0\n",
      "dtype: int64 y: class    0\n",
      "dtype: int64\n"
     ]
    }
   ],
   "source": [
    "# Checking for NA values\n",
    "xna = X.isna().sum()\n",
    "yna = y.isna().sum()\n",
    "\n",
    "print(\"x:\", xna, \"y:\", yna)"
   ]
  },
  {
   "cell_type": "code",
   "execution_count": 12,
   "id": "2ace647b-f93b-4fd8-88bd-860ce221bbc9",
   "metadata": {},
   "outputs": [
    {
     "data": {
      "text/html": [
       "<div>\n",
       "<style scoped>\n",
       "    .dataframe tbody tr th:only-of-type {\n",
       "        vertical-align: middle;\n",
       "    }\n",
       "\n",
       "    .dataframe tbody tr th {\n",
       "        vertical-align: top;\n",
       "    }\n",
       "\n",
       "    .dataframe thead th {\n",
       "        text-align: right;\n",
       "    }\n",
       "</style>\n",
       "<table border=\"1\" class=\"dataframe\">\n",
       "  <thead>\n",
       "    <tr style=\"text-align: right;\">\n",
       "      <th></th>\n",
       "      <th>buying</th>\n",
       "      <th>maint</th>\n",
       "      <th>doors</th>\n",
       "      <th>persons</th>\n",
       "      <th>lug_boot</th>\n",
       "      <th>safety</th>\n",
       "    </tr>\n",
       "  </thead>\n",
       "  <tbody>\n",
       "    <tr>\n",
       "      <th>count</th>\n",
       "      <td>1728</td>\n",
       "      <td>1728</td>\n",
       "      <td>1728</td>\n",
       "      <td>1728</td>\n",
       "      <td>1728</td>\n",
       "      <td>1728</td>\n",
       "    </tr>\n",
       "    <tr>\n",
       "      <th>unique</th>\n",
       "      <td>4</td>\n",
       "      <td>4</td>\n",
       "      <td>4</td>\n",
       "      <td>3</td>\n",
       "      <td>3</td>\n",
       "      <td>3</td>\n",
       "    </tr>\n",
       "    <tr>\n",
       "      <th>top</th>\n",
       "      <td>vhigh</td>\n",
       "      <td>vhigh</td>\n",
       "      <td>2</td>\n",
       "      <td>2</td>\n",
       "      <td>small</td>\n",
       "      <td>low</td>\n",
       "    </tr>\n",
       "    <tr>\n",
       "      <th>freq</th>\n",
       "      <td>432</td>\n",
       "      <td>432</td>\n",
       "      <td>432</td>\n",
       "      <td>576</td>\n",
       "      <td>576</td>\n",
       "      <td>576</td>\n",
       "    </tr>\n",
       "  </tbody>\n",
       "</table>\n",
       "</div>"
      ],
      "text/plain": [
       "       buying  maint doors persons lug_boot safety\n",
       "count    1728   1728  1728    1728     1728   1728\n",
       "unique      4      4     4       3        3      3\n",
       "top     vhigh  vhigh     2       2    small    low\n",
       "freq      432    432   432     576      576    576"
      ]
     },
     "execution_count": 12,
     "metadata": {},
     "output_type": "execute_result"
    }
   ],
   "source": [
    "# Evaluate the features\n",
    "X.describe()"
   ]
  },
  {
   "cell_type": "code",
   "execution_count": 13,
   "id": "9b547239-0391-4fbd-81e6-b58baa7a664f",
   "metadata": {},
   "outputs": [
    {
     "data": {
      "text/html": [
       "<div>\n",
       "<style scoped>\n",
       "    .dataframe tbody tr th:only-of-type {\n",
       "        vertical-align: middle;\n",
       "    }\n",
       "\n",
       "    .dataframe tbody tr th {\n",
       "        vertical-align: top;\n",
       "    }\n",
       "\n",
       "    .dataframe thead th {\n",
       "        text-align: right;\n",
       "    }\n",
       "</style>\n",
       "<table border=\"1\" class=\"dataframe\">\n",
       "  <thead>\n",
       "    <tr style=\"text-align: right;\">\n",
       "      <th></th>\n",
       "      <th>class</th>\n",
       "    </tr>\n",
       "  </thead>\n",
       "  <tbody>\n",
       "    <tr>\n",
       "      <th>count</th>\n",
       "      <td>1728</td>\n",
       "    </tr>\n",
       "    <tr>\n",
       "      <th>unique</th>\n",
       "      <td>4</td>\n",
       "    </tr>\n",
       "    <tr>\n",
       "      <th>top</th>\n",
       "      <td>unacc</td>\n",
       "    </tr>\n",
       "    <tr>\n",
       "      <th>freq</th>\n",
       "      <td>1210</td>\n",
       "    </tr>\n",
       "  </tbody>\n",
       "</table>\n",
       "</div>"
      ],
      "text/plain": [
       "        class\n",
       "count    1728\n",
       "unique      4\n",
       "top     unacc\n",
       "freq     1210"
      ]
     },
     "execution_count": 13,
     "metadata": {},
     "output_type": "execute_result"
    }
   ],
   "source": [
    "# Evaluate the targets\n",
    "y.describe()"
   ]
  },
  {
   "cell_type": "code",
   "execution_count": 14,
   "id": "9ade23f8-0c60-4f34-8661-ebad7f263b6a",
   "metadata": {},
   "outputs": [
    {
     "data": {
      "text/plain": [
       "class\n",
       "unacc    1210\n",
       "acc       384\n",
       "good       69\n",
       "vgood      65\n",
       "Name: count, dtype: int64"
      ]
     },
     "execution_count": 14,
     "metadata": {},
     "output_type": "execute_result"
    }
   ],
   "source": [
    "# Check the class distribution\n",
    "unique_count = y.value_counts()\n",
    "unique_count"
   ]
  },
  {
   "cell_type": "code",
   "execution_count": 15,
   "id": "18a0d875-5ab4-4e8a-ad51-52318875b8b8",
   "metadata": {},
   "outputs": [
    {
     "data": {
      "text/plain": [
       "0.7002314814814815"
      ]
     },
     "execution_count": 15,
     "metadata": {},
     "output_type": "execute_result"
    }
   ],
   "source": [
    "# Class imbalances\n",
    "unacc = 1210/1728\n",
    "unacc"
   ]
  },
  {
   "cell_type": "markdown",
   "id": "e3382c1b-ac8d-4a1c-983c-1a7e64078986",
   "metadata": {},
   "source": [
    "## Split the data before Transformation"
   ]
  },
  {
   "cell_type": "code",
   "execution_count": 17,
   "id": "3982399f-2a1a-4ad5-8ff9-5fa9f0b00d4e",
   "metadata": {},
   "outputs": [],
   "source": [
    "import pandas as pd\n",
    "\n",
    "# Split into training and testing data, 80% training, 20% testing\n",
    "from sklearn.model_selection import cross_val_score, train_test_split\n",
    "X_train_cv, X_test_cv, y_train_cv, y_test_cv = train_test_split(X, y, test_size=.2,random_state=100)"
   ]
  },
  {
   "cell_type": "markdown",
   "id": "d30b4aff-379b-412d-be74-cccd85fa9e51",
   "metadata": {},
   "source": [
    "### Binary Transformation"
   ]
  },
  {
   "cell_type": "code",
   "execution_count": 19,
   "id": "056783e1-6d08-4713-b474-27e14ecd860c",
   "metadata": {},
   "outputs": [
    {
     "data": {
      "text/plain": [
       "array([[0., 1., 0., ..., 0., 0., 1.],\n",
       "       [0., 1., 0., ..., 1., 0., 0.],\n",
       "       [0., 0., 0., ..., 0., 0., 1.],\n",
       "       ...,\n",
       "       [0., 0., 0., ..., 0., 0., 1.],\n",
       "       [1., 0., 0., ..., 0., 1., 0.],\n",
       "       [0., 1., 0., ..., 1., 0., 0.]])"
      ]
     },
     "execution_count": 19,
     "metadata": {},
     "output_type": "execute_result"
    }
   ],
   "source": [
    "from sklearn.preprocessing import OneHotEncoder\n",
    "x_encoder = OneHotEncoder()\n",
    "X_bin_train = x_encoder.fit_transform(X_train_cv).toarray()\n",
    "X_bin_train"
   ]
  },
  {
   "cell_type": "code",
   "execution_count": 20,
   "id": "25d7ca4e-4c12-4015-9167-f14fbb311e14",
   "metadata": {},
   "outputs": [
    {
     "data": {
      "text/html": [
       "<div>\n",
       "<style scoped>\n",
       "    .dataframe tbody tr th:only-of-type {\n",
       "        vertical-align: middle;\n",
       "    }\n",
       "\n",
       "    .dataframe tbody tr th {\n",
       "        vertical-align: top;\n",
       "    }\n",
       "\n",
       "    .dataframe thead th {\n",
       "        text-align: right;\n",
       "    }\n",
       "</style>\n",
       "<table border=\"1\" class=\"dataframe\">\n",
       "  <thead>\n",
       "    <tr style=\"text-align: right;\">\n",
       "      <th></th>\n",
       "      <th>buying_high</th>\n",
       "      <th>buying_low</th>\n",
       "      <th>buying_med</th>\n",
       "      <th>buying_vhigh</th>\n",
       "      <th>maint_high</th>\n",
       "      <th>maint_low</th>\n",
       "      <th>maint_med</th>\n",
       "      <th>maint_vhigh</th>\n",
       "      <th>doors_2</th>\n",
       "      <th>doors_3</th>\n",
       "      <th>...</th>\n",
       "      <th>doors_5more</th>\n",
       "      <th>persons_2</th>\n",
       "      <th>persons_4</th>\n",
       "      <th>persons_more</th>\n",
       "      <th>lug_boot_big</th>\n",
       "      <th>lug_boot_med</th>\n",
       "      <th>lug_boot_small</th>\n",
       "      <th>safety_high</th>\n",
       "      <th>safety_low</th>\n",
       "      <th>safety_med</th>\n",
       "    </tr>\n",
       "  </thead>\n",
       "  <tbody>\n",
       "    <tr>\n",
       "      <th>0</th>\n",
       "      <td>0.0</td>\n",
       "      <td>1.0</td>\n",
       "      <td>0.0</td>\n",
       "      <td>0.0</td>\n",
       "      <td>0.0</td>\n",
       "      <td>0.0</td>\n",
       "      <td>1.0</td>\n",
       "      <td>0.0</td>\n",
       "      <td>1.0</td>\n",
       "      <td>0.0</td>\n",
       "      <td>...</td>\n",
       "      <td>0.0</td>\n",
       "      <td>1.0</td>\n",
       "      <td>0.0</td>\n",
       "      <td>0.0</td>\n",
       "      <td>0.0</td>\n",
       "      <td>0.0</td>\n",
       "      <td>1.0</td>\n",
       "      <td>0.0</td>\n",
       "      <td>0.0</td>\n",
       "      <td>1.0</td>\n",
       "    </tr>\n",
       "    <tr>\n",
       "      <th>1</th>\n",
       "      <td>0.0</td>\n",
       "      <td>1.0</td>\n",
       "      <td>0.0</td>\n",
       "      <td>0.0</td>\n",
       "      <td>1.0</td>\n",
       "      <td>0.0</td>\n",
       "      <td>0.0</td>\n",
       "      <td>0.0</td>\n",
       "      <td>0.0</td>\n",
       "      <td>0.0</td>\n",
       "      <td>...</td>\n",
       "      <td>0.0</td>\n",
       "      <td>1.0</td>\n",
       "      <td>0.0</td>\n",
       "      <td>0.0</td>\n",
       "      <td>1.0</td>\n",
       "      <td>0.0</td>\n",
       "      <td>0.0</td>\n",
       "      <td>1.0</td>\n",
       "      <td>0.0</td>\n",
       "      <td>0.0</td>\n",
       "    </tr>\n",
       "    <tr>\n",
       "      <th>2</th>\n",
       "      <td>0.0</td>\n",
       "      <td>0.0</td>\n",
       "      <td>0.0</td>\n",
       "      <td>1.0</td>\n",
       "      <td>0.0</td>\n",
       "      <td>0.0</td>\n",
       "      <td>0.0</td>\n",
       "      <td>1.0</td>\n",
       "      <td>0.0</td>\n",
       "      <td>0.0</td>\n",
       "      <td>...</td>\n",
       "      <td>1.0</td>\n",
       "      <td>0.0</td>\n",
       "      <td>0.0</td>\n",
       "      <td>1.0</td>\n",
       "      <td>0.0</td>\n",
       "      <td>1.0</td>\n",
       "      <td>0.0</td>\n",
       "      <td>0.0</td>\n",
       "      <td>0.0</td>\n",
       "      <td>1.0</td>\n",
       "    </tr>\n",
       "    <tr>\n",
       "      <th>3</th>\n",
       "      <td>0.0</td>\n",
       "      <td>1.0</td>\n",
       "      <td>0.0</td>\n",
       "      <td>0.0</td>\n",
       "      <td>0.0</td>\n",
       "      <td>1.0</td>\n",
       "      <td>0.0</td>\n",
       "      <td>0.0</td>\n",
       "      <td>0.0</td>\n",
       "      <td>0.0</td>\n",
       "      <td>...</td>\n",
       "      <td>1.0</td>\n",
       "      <td>1.0</td>\n",
       "      <td>0.0</td>\n",
       "      <td>0.0</td>\n",
       "      <td>1.0</td>\n",
       "      <td>0.0</td>\n",
       "      <td>0.0</td>\n",
       "      <td>0.0</td>\n",
       "      <td>1.0</td>\n",
       "      <td>0.0</td>\n",
       "    </tr>\n",
       "    <tr>\n",
       "      <th>4</th>\n",
       "      <td>0.0</td>\n",
       "      <td>1.0</td>\n",
       "      <td>0.0</td>\n",
       "      <td>0.0</td>\n",
       "      <td>1.0</td>\n",
       "      <td>0.0</td>\n",
       "      <td>0.0</td>\n",
       "      <td>0.0</td>\n",
       "      <td>0.0</td>\n",
       "      <td>0.0</td>\n",
       "      <td>...</td>\n",
       "      <td>0.0</td>\n",
       "      <td>0.0</td>\n",
       "      <td>0.0</td>\n",
       "      <td>1.0</td>\n",
       "      <td>0.0</td>\n",
       "      <td>1.0</td>\n",
       "      <td>0.0</td>\n",
       "      <td>0.0</td>\n",
       "      <td>1.0</td>\n",
       "      <td>0.0</td>\n",
       "    </tr>\n",
       "  </tbody>\n",
       "</table>\n",
       "<p>5 rows × 21 columns</p>\n",
       "</div>"
      ],
      "text/plain": [
       "   buying_high  buying_low  buying_med  buying_vhigh  maint_high  maint_low  \\\n",
       "0          0.0         1.0         0.0           0.0         0.0        0.0   \n",
       "1          0.0         1.0         0.0           0.0         1.0        0.0   \n",
       "2          0.0         0.0         0.0           1.0         0.0        0.0   \n",
       "3          0.0         1.0         0.0           0.0         0.0        1.0   \n",
       "4          0.0         1.0         0.0           0.0         1.0        0.0   \n",
       "\n",
       "   maint_med  maint_vhigh  doors_2  doors_3  ...  doors_5more  persons_2  \\\n",
       "0        1.0          0.0      1.0      0.0  ...          0.0        1.0   \n",
       "1        0.0          0.0      0.0      0.0  ...          0.0        1.0   \n",
       "2        0.0          1.0      0.0      0.0  ...          1.0        0.0   \n",
       "3        0.0          0.0      0.0      0.0  ...          1.0        1.0   \n",
       "4        0.0          0.0      0.0      0.0  ...          0.0        0.0   \n",
       "\n",
       "   persons_4  persons_more  lug_boot_big  lug_boot_med  lug_boot_small  \\\n",
       "0        0.0           0.0           0.0           0.0             1.0   \n",
       "1        0.0           0.0           1.0           0.0             0.0   \n",
       "2        0.0           1.0           0.0           1.0             0.0   \n",
       "3        0.0           0.0           1.0           0.0             0.0   \n",
       "4        0.0           1.0           0.0           1.0             0.0   \n",
       "\n",
       "   safety_high  safety_low  safety_med  \n",
       "0          0.0         0.0         1.0  \n",
       "1          1.0         0.0         0.0  \n",
       "2          0.0         0.0         1.0  \n",
       "3          0.0         1.0         0.0  \n",
       "4          0.0         1.0         0.0  \n",
       "\n",
       "[5 rows x 21 columns]"
      ]
     },
     "execution_count": 20,
     "metadata": {},
     "output_type": "execute_result"
    }
   ],
   "source": [
    "# Just checking to make sure its correct\n",
    "X_bin_train= pd.DataFrame(X_bin_train, columns=x_encoder.get_feature_names_out())\n",
    "X_bin_train.head()"
   ]
  },
  {
   "cell_type": "code",
   "execution_count": 21,
   "id": "37bffabc-c1fa-4fb5-9c1c-fe25c9093ba0",
   "metadata": {},
   "outputs": [],
   "source": [
    "# Now for y transformation\n",
    "y_bin_train = pd.DataFrame(y_train_cv)"
   ]
  },
  {
   "cell_type": "markdown",
   "id": "cac1cfd8-a88b-4c67-a1db-5f14a84d4404",
   "metadata": {},
   "source": [
    "### Ordinal Transformation"
   ]
  },
  {
   "cell_type": "code",
   "execution_count": 23,
   "id": "f267dc67-f8c2-4bb1-b1dc-f5966eb01690",
   "metadata": {},
   "outputs": [
    {
     "data": {
      "text/html": [
       "<div>\n",
       "<style scoped>\n",
       "    .dataframe tbody tr th:only-of-type {\n",
       "        vertical-align: middle;\n",
       "    }\n",
       "\n",
       "    .dataframe tbody tr th {\n",
       "        vertical-align: top;\n",
       "    }\n",
       "\n",
       "    .dataframe thead th {\n",
       "        text-align: right;\n",
       "    }\n",
       "</style>\n",
       "<table border=\"1\" class=\"dataframe\">\n",
       "  <thead>\n",
       "    <tr style=\"text-align: right;\">\n",
       "      <th></th>\n",
       "      <th>buying</th>\n",
       "      <th>maint</th>\n",
       "      <th>doors</th>\n",
       "      <th>persons</th>\n",
       "      <th>lug_boot</th>\n",
       "      <th>safety</th>\n",
       "    </tr>\n",
       "  </thead>\n",
       "  <tbody>\n",
       "    <tr>\n",
       "      <th>1513</th>\n",
       "      <td>1</td>\n",
       "      <td>2</td>\n",
       "      <td>1</td>\n",
       "      <td>1</td>\n",
       "      <td>1</td>\n",
       "      <td>2</td>\n",
       "    </tr>\n",
       "    <tr>\n",
       "      <th>1466</th>\n",
       "      <td>1</td>\n",
       "      <td>3</td>\n",
       "      <td>3</td>\n",
       "      <td>1</td>\n",
       "      <td>3</td>\n",
       "      <td>3</td>\n",
       "    </tr>\n",
       "    <tr>\n",
       "      <th>103</th>\n",
       "      <td>4</td>\n",
       "      <td>4</td>\n",
       "      <td>4</td>\n",
       "      <td>3</td>\n",
       "      <td>2</td>\n",
       "      <td>2</td>\n",
       "    </tr>\n",
       "    <tr>\n",
       "      <th>1707</th>\n",
       "      <td>1</td>\n",
       "      <td>1</td>\n",
       "      <td>4</td>\n",
       "      <td>1</td>\n",
       "      <td>3</td>\n",
       "      <td>1</td>\n",
       "    </tr>\n",
       "    <tr>\n",
       "      <th>1479</th>\n",
       "      <td>1</td>\n",
       "      <td>3</td>\n",
       "      <td>3</td>\n",
       "      <td>3</td>\n",
       "      <td>2</td>\n",
       "      <td>1</td>\n",
       "    </tr>\n",
       "    <tr>\n",
       "      <th>916</th>\n",
       "      <td>2</td>\n",
       "      <td>4</td>\n",
       "      <td>2</td>\n",
       "      <td>3</td>\n",
       "      <td>3</td>\n",
       "      <td>2</td>\n",
       "    </tr>\n",
       "    <tr>\n",
       "      <th>985</th>\n",
       "      <td>2</td>\n",
       "      <td>3</td>\n",
       "      <td>1</td>\n",
       "      <td>2</td>\n",
       "      <td>2</td>\n",
       "      <td>2</td>\n",
       "    </tr>\n",
       "    <tr>\n",
       "      <th>1611</th>\n",
       "      <td>1</td>\n",
       "      <td>2</td>\n",
       "      <td>4</td>\n",
       "      <td>3</td>\n",
       "      <td>1</td>\n",
       "      <td>1</td>\n",
       "    </tr>\n",
       "    <tr>\n",
       "      <th>898</th>\n",
       "      <td>2</td>\n",
       "      <td>4</td>\n",
       "      <td>2</td>\n",
       "      <td>1</td>\n",
       "      <td>3</td>\n",
       "      <td>2</td>\n",
       "    </tr>\n",
       "    <tr>\n",
       "      <th>368</th>\n",
       "      <td>4</td>\n",
       "      <td>1</td>\n",
       "      <td>2</td>\n",
       "      <td>2</td>\n",
       "      <td>3</td>\n",
       "      <td>3</td>\n",
       "    </tr>\n",
       "  </tbody>\n",
       "</table>\n",
       "</div>"
      ],
      "text/plain": [
       "      buying  maint  doors  persons  lug_boot  safety\n",
       "1513       1      2      1        1         1       2\n",
       "1466       1      3      3        1         3       3\n",
       "103        4      4      4        3         2       2\n",
       "1707       1      1      4        1         3       1\n",
       "1479       1      3      3        3         2       1\n",
       "916        2      4      2        3         3       2\n",
       "985        2      3      1        2         2       2\n",
       "1611       1      2      4        3         1       1\n",
       "898        2      4      2        1         3       2\n",
       "368        4      1      2        2         3       3"
      ]
     },
     "execution_count": 23,
     "metadata": {},
     "output_type": "execute_result"
    }
   ],
   "source": [
    "# Convert to DataFrame\n",
    "X_ord_train = pd.DataFrame(X_train_cv)\n",
    "\n",
    "# Define the mappings\n",
    "buying_map = {'vhigh': 4, 'high': 3, 'med': 2, 'low': 1}\n",
    "maint_map = {'vhigh': 4, 'high': 3, 'med': 2, 'low': 1}\n",
    "doors_map = {'2': 1, '3': 2, '4': 3, '5more': 4}\n",
    "persons_map = {'2': 1, '4': 2, 'more': 3}\n",
    "lug_boot_map = {'small': 1, 'med': 2, 'big': 3}\n",
    "safety_map = {'low': 1, 'med': 2, 'high': 3}\n",
    "\n",
    "# Apply the mappings\n",
    "X_ord_train['buying'] = X_ord_train['buying'].map(buying_map)\n",
    "X_ord_train['maint'] = X_ord_train['maint'].map(maint_map)\n",
    "X_ord_train['doors'] = X_ord_train['doors'].map(doors_map)\n",
    "X_ord_train['persons'] = X_ord_train['persons'].map(persons_map)\n",
    "X_ord_train['lug_boot'] = X_ord_train['lug_boot'].map(lug_boot_map)\n",
    "X_ord_train['safety'] = X_ord_train['safety'].map(safety_map)\n",
    "X_ord_train.head(10)"
   ]
  },
  {
   "cell_type": "code",
   "execution_count": 24,
   "id": "d4ada897-f354-47cf-b77c-93f58d7a3085",
   "metadata": {},
   "outputs": [],
   "source": [
    "# Do the same for Y\n",
    "y_ord_train = pd.DataFrame(y_train_cv)"
   ]
  },
  {
   "cell_type": "markdown",
   "id": "eea15e9f-94e9-42ae-bc13-7ecde89ae315",
   "metadata": {},
   "source": [
    "## Set Up"
   ]
  },
  {
   "cell_type": "code",
   "execution_count": 26,
   "id": "bbc7cf70-45d4-45a6-a68c-60ff7189b1f6",
   "metadata": {},
   "outputs": [],
   "source": [
    "import numpy as np\n",
    "import seaborn as sns\n",
    "import matplotlib.pyplot as plt\n",
    "\n",
    "from imblearn.over_sampling import SMOTE\n",
    "from imblearn.over_sampling import RandomOverSampler\n",
    "\n",
    "from sklearn.tree import DecisionTreeClassifier\n",
    "from sklearn.neighbors import KNeighborsClassifier\n",
    "from sklearn.linear_model import LogisticRegression\n",
    "from sklearn.svm import SVC\n",
    "\n",
    "from sklearn.metrics import accuracy_score, classification_report, confusion_matrix, recall_score, precision_score, f1_score,matthews_corrcoef\n",
    "from sklearn.metrics import roc_curve, auc, confusion_matrix, ConfusionMatrixDisplay\n",
    "from sklearn.metrics import roc_auc_score\n",
    "from sklearn.preprocessing import StandardScaler\n",
    "from sklearn.model_selection import StratifiedKFold, cross_val_score, GridSearchCV\n",
    "from sklearn.metrics import make_scorer\n",
    "from sklearn.pipeline import Pipeline\n",
    "from imblearn.pipeline import Pipeline as ImPipeline\n",
    "from sklearn.preprocessing import LabelEncoder\n",
    "from sklearn.multiclass import OneVsRestClassifier, OneVsOneClassifier\n",
    "\n",
    "import warnings\n",
    "from sklearn.exceptions import ConvergenceWarning\n",
    "from imblearn.over_sampling import RandomOverSampler\n",
    "from sklearn.naive_bayes import GaussianNB"
   ]
  },
  {
   "cell_type": "markdown",
   "id": "ef2dbb30-76ca-4185-b276-59c23d5f32a5",
   "metadata": {},
   "source": [
    "## Nested CV Function"
   ]
  },
  {
   "cell_type": "code",
   "execution_count": 28,
   "id": "c3b6b56f-2208-4c37-8d3a-4bf5c8c5c3de",
   "metadata": {},
   "outputs": [],
   "source": [
    "# Create nested cv classifcation function to call later\n",
    "def nested_cv(model_pipeline, param_grid, X_train, y_train, outer_splits=5, inner_splits=5):\n",
    "\n",
    "    # Define outer CV for model performance\n",
    "    outer_cv = StratifiedKFold(n_splits= outer_splits, shuffle=True, random_state=42)\n",
    "\n",
    "    # Set lists for scores to append later\n",
    "    accuracy_scores, recall_scores, precision_scores , f1_scores, mcc_scores = [], [], [], [], []\n",
    "\n",
    "    for train_idx, test_idx in outer_cv.split(X_train, y_train):\n",
    "        # Split outer train/test data\n",
    "        X_train_fold, X_test_fold = X_train.iloc[train_idx], X_train.iloc[test_idx]\n",
    "        y_train_fold, y_test_fold = y_train.iloc[train_idx], y_train.iloc[test_idx]\n",
    "\n",
    "        # Inner CV for hyperparameter tuning\n",
    "        inner_cv = StratifiedKFold(n_splits=inner_splits, shuffle=True, random_state=42)\n",
    "\n",
    "        # GridSearchCV for tuning\n",
    "        grid_search = GridSearchCV(model_pipeline, param_grid, cv=inner_cv, scoring='matthews_corrcoef', refit=True)\n",
    "        grid_search.fit(X_train_fold, y_train_fold.to_numpy().ravel())\n",
    "\n",
    "        # Best model from inner loop\n",
    "        best_model = grid_search.best_estimator_\n",
    "\n",
    "        # Predict on outer test set\n",
    "        y_pred = best_model.predict(X_test_fold)\n",
    "\n",
    "        # Calculate different performance metrics\n",
    "        accuracy = accuracy_score(y_test_fold.to_numpy().ravel(), y_pred)\n",
    "        recall = recall_score(y_test_fold.to_numpy().ravel(), y_pred, average='weighted')\n",
    "        precision = precision_score(y_test_fold.to_numpy().ravel(), y_pred, average='weighted')\n",
    "        f1 = f1_score(y_test_fold.to_numpy().ravel(), y_pred, average='weighted')\n",
    "        mcc = matthews_corrcoef(y_test_fold.to_numpy().ravel(), y_pred)\n",
    "        \n",
    "\n",
    "        # Append scores for each fold\n",
    "        accuracy_scores.append(accuracy)\n",
    "        recall_scores.append(recall)\n",
    "        precision_scores.append(precision)\n",
    "        f1_scores.append(f1)\n",
    "        mcc_scores.append(mcc)\n",
    "\n",
    "    # Return mean metrics across outer folds\n",
    "    return {\n",
    "        'Nested CV Accuracy': float(np.mean(accuracy_scores)),\n",
    "        'Nested CV Recall': float(np.mean(recall_scores)),\n",
    "        'Nested CV Precision': float(np.mean(precision_scores)),\n",
    "        'Nested CV F1 Score': float(np.mean(f1_scores)),\n",
    "        'Nested CV MCC Score': float(np.mean(mcc_scores))\n",
    "    }"
   ]
  },
  {
   "cell_type": "markdown",
   "id": "70cd3cfd-6a19-49d8-9f0b-7da12a7eed67",
   "metadata": {},
   "source": [
    "### KNN"
   ]
  },
  {
   "cell_type": "code",
   "execution_count": 30,
   "id": "847840e5-f786-4d9d-994f-748960515645",
   "metadata": {},
   "outputs": [
    {
     "name": "stderr",
     "output_type": "stream",
     "text": [
      "C:\\Users\\olivi\\anaconda3\\Lib\\site-packages\\joblib\\externals\\loky\\backend\\context.py:136: UserWarning: Could not find the number of physical cores for the following reason:\n",
      "[WinError 2] The system cannot find the file specified\n",
      "Returning the number of logical cores instead. You can silence this warning by setting LOKY_MAX_CPU_COUNT to the number of cores you want to use.\n",
      "  warnings.warn(\n",
      "  File \"C:\\Users\\olivi\\anaconda3\\Lib\\site-packages\\joblib\\externals\\loky\\backend\\context.py\", line 257, in _count_physical_cores\n",
      "    cpu_info = subprocess.run(\n",
      "               ^^^^^^^^^^^^^^^\n",
      "  File \"C:\\Users\\olivi\\anaconda3\\Lib\\subprocess.py\", line 548, in run\n",
      "    with Popen(*popenargs, **kwargs) as process:\n",
      "         ^^^^^^^^^^^^^^^^^^^^^^^^^^^\n",
      "  File \"C:\\Users\\olivi\\anaconda3\\Lib\\subprocess.py\", line 1026, in __init__\n",
      "    self._execute_child(args, executable, preexec_fn, close_fds,\n",
      "  File \"C:\\Users\\olivi\\anaconda3\\Lib\\subprocess.py\", line 1538, in _execute_child\n",
      "    hp, ht, pid, tid = _winapi.CreateProcess(executable, args,\n",
      "                       ^^^^^^^^^^^^^^^^^^^^^^^^^^^^^^^^^^^^^^^\n"
     ]
    },
    {
     "name": "stdout",
     "output_type": "stream",
     "text": [
      "KNN Binary: {'Nested CV Accuracy': 0.9066551561764244, 'Nested CV Recall': 0.9066551561764244, 'Nested CV Precision': 0.9178613869647199, 'Nested CV F1 Score': 0.9111772395803104, 'Nested CV MCC Score': 0.8066196495030482}\n",
      "KNN Ordinal: {'Nested CV Accuracy': 0.899429707528907, 'Nested CV Recall': 0.899429707528907, 'Nested CV Precision': 0.9149342410685959, 'Nested CV F1 Score': 0.90299339502346, 'Nested CV MCC Score': 0.7997812012393511}\n"
     ]
    }
   ],
   "source": [
    "# Define the KNN model\n",
    "model_knn = KNeighborsClassifier()\n",
    "\n",
    "# Apply SMOTE to handle class imbalance\n",
    "smote = SMOTE(sampling_strategy='auto', random_state=42)\n",
    "\n",
    "# Create an imbalanced-learn pipeline with SMOTE, scaling, and the One-vs-Rest KNN model\n",
    "pipeline_knn = ImPipeline([\n",
    "    ('smote', smote),  # Apply SMOTE to balance the data\n",
    "    ('scaler', StandardScaler()),  # Normalize data\n",
    "    ('knn', OneVsRestClassifier(KNeighborsClassifier()))  # One-vs-Rest classifier\n",
    "])\n",
    "\n",
    "# Define the parameter grid for hyperparameter tuning (inner loop)\n",
    "param_grid_knn = {\n",
    "    'knn__estimator__n_neighbors': [5, 7, 10, 15],  \n",
    "    'knn__estimator__metric': ['euclidean', 'manhattan'],\n",
    "    'knn__estimator__weights': ['uniform', 'distance']\n",
    "}\n",
    "\n",
    "# Binary model results\n",
    "bin_results_knn = nested_cv(pipeline_knn, param_grid_knn, X_bin_train, y_bin_train)\n",
    "print(\"KNN Binary:\", bin_results_knn)\n",
    "\n",
    "# Ordinal model results\n",
    "ord_results_knn = nested_cv(pipeline_knn, param_grid_knn, X_ord_train, y_ord_train)\n",
    "print(\"KNN Ordinal:\", ord_results_knn)\n"
   ]
  },
  {
   "cell_type": "markdown",
   "id": "1d78d150-4ed7-4ba8-b27a-85df47ce7498",
   "metadata": {},
   "source": [
    "### SVM"
   ]
  },
  {
   "cell_type": "code",
   "execution_count": 32,
   "id": "fef36a49-d2aa-4538-b375-dca5ecf5170b",
   "metadata": {
    "scrolled": true
   },
   "outputs": [
    {
     "name": "stdout",
     "output_type": "stream",
     "text": [
      "SVM Binary: {'Nested CV Accuracy': 0.9927614712499345, 'Nested CV Recall': 0.9927614712499345, 'Nested CV Precision': 0.9937023108883885, 'Nested CV F1 Score': 0.9928873487947885, 'Nested CV MCC Score': 0.9845013837727052}\n",
      "SVM Binary: {'Nested CV Accuracy': 0.9783001098728615, 'Nested CV Recall': 0.9783001098728615, 'Nested CV Precision': 0.9806835910465864, 'Nested CV F1 Score': 0.9787461095048073, 'Nested CV MCC Score': 0.9547817060167645}\n"
     ]
    }
   ],
   "source": [
    "# Create pipelines with normalization (scaling) and models\n",
    "# Define the model\n",
    "model_svm = SVC(class_weight = 'balanced', decision_function_shape = 'ovr')\n",
    "\n",
    "# Create a pipeline with the model, no need to normalize on DT\n",
    "pipeline_svm= Pipeline([\n",
    "    ('scaler', StandardScaler()),  # Normalize data\n",
    "    ('SVM', model_svm)  # SVM classifier\n",
    "])\n",
    "\n",
    "# Define the parameter grid for hyperparameter tuning\n",
    "param_grid_svm = {\n",
    "    'SVM__C': [0.1, 1, 10],   # Regularization strength\n",
    "    'SVM__kernel': ['linear', 'rbf'],  # Type of kernel to use\n",
    "    'SVM__gamma': ['scale', 0.1, 1, 10]  # Kernel coefficient\n",
    "}\n",
    "\n",
    "# Binary model results\n",
    "bin_results_svm = nested_cv(pipeline_svm, param_grid_svm, X_bin_train, y_bin_train)\n",
    "print(\"SVM Binary:\", bin_results_svm)\n",
    "\n",
    "# Ordinal model results\n",
    "ord_results_svm = nested_cv(pipeline_svm, param_grid_svm, X_ord_train, y_ord_train)\n",
    "print(\"SVM Binary:\", ord_results_svm)"
   ]
  },
  {
   "cell_type": "markdown",
   "id": "61f061f6-2299-4921-9d85-ff7cc5f35e9b",
   "metadata": {},
   "source": [
    "### Decision Tree"
   ]
  },
  {
   "cell_type": "code",
   "execution_count": 34,
   "id": "d4d915ec-6396-4677-b3ad-27e28214911e",
   "metadata": {},
   "outputs": [
    {
     "name": "stdout",
     "output_type": "stream",
     "text": [
      "Decision Tree Binary: {'Nested CV Accuracy': 0.9182179668288599, 'Nested CV Recall': 0.9182179668288599, 'Nested CV Precision': 0.9304395854006552, 'Nested CV F1 Score': 0.9182605782183245, 'Nested CV MCC Score': 0.8334383870145826}\n",
      "Decision Tree Binary: {'Nested CV Accuracy': 0.9218490032961858, 'Nested CV Recall': 0.9218490032961858, 'Nested CV Precision': 0.9257551764286983, 'Nested CV F1 Score': 0.9217574297459483, 'Nested CV MCC Score': 0.8354384849608898}\n"
     ]
    }
   ],
   "source": [
    "# Create pipelines with normalization (scaling) and models\n",
    "# Define the model\n",
    "model_dt = DecisionTreeClassifier()\n",
    "\n",
    "# Create a pipeline with the model, no need to normalize on DT\n",
    "pipeline_dt= ImPipeline([\n",
    "    # ('smote', smote),\n",
    "    ('DecisionTree', model_dt)  # Dt classifier\n",
    "])\n",
    "\n",
    "# Set parameter grid for search\n",
    "param_grid_dt = {'DecisionTree__max_depth': [3, 5,7], \n",
    "                 'DecisionTree__min_samples_split': [3,5],\n",
    "                 'DecisionTree__criterion': ['gini', 'entropy']}\n",
    "\n",
    "# Binary model results\n",
    "bin_results_dt = nested_cv(pipeline_dt, param_grid_dt, X_bin_train, y_bin_train)\n",
    "print(\"Decision Tree Binary:\", bin_results_dt)\n",
    "\n",
    "# Ordinal model results\n",
    "ord_results_dt = nested_cv(pipeline_dt, param_grid_dt, X_ord_train, y_ord_train)\n",
    "print(\"Decision Tree Binary:\", ord_results_dt)"
   ]
  },
  {
   "cell_type": "markdown",
   "id": "a22dacbe-c5c7-4c44-8586-2fae0f960904",
   "metadata": {},
   "source": [
    "### Logistic Regression"
   ]
  },
  {
   "cell_type": "code",
   "execution_count": 36,
   "id": "bfa4be35-4708-454e-b336-3afce3804041",
   "metadata": {
    "scrolled": true
   },
   "outputs": [
    {
     "name": "stderr",
     "output_type": "stream",
     "text": [
      "C:\\Users\\olivi\\anaconda3\\Lib\\site-packages\\sklearn\\linear_model\\_sag.py:349: ConvergenceWarning: The max_iter was reached which means the coef_ did not converge\n",
      "  warnings.warn(\n",
      "C:\\Users\\olivi\\anaconda3\\Lib\\site-packages\\sklearn\\linear_model\\_sag.py:349: ConvergenceWarning: The max_iter was reached which means the coef_ did not converge\n",
      "  warnings.warn(\n",
      "C:\\Users\\olivi\\anaconda3\\Lib\\site-packages\\sklearn\\linear_model\\_sag.py:349: ConvergenceWarning: The max_iter was reached which means the coef_ did not converge\n",
      "  warnings.warn(\n",
      "C:\\Users\\olivi\\anaconda3\\Lib\\site-packages\\sklearn\\linear_model\\_sag.py:349: ConvergenceWarning: The max_iter was reached which means the coef_ did not converge\n",
      "  warnings.warn(\n",
      "C:\\Users\\olivi\\anaconda3\\Lib\\site-packages\\sklearn\\linear_model\\_sag.py:349: ConvergenceWarning: The max_iter was reached which means the coef_ did not converge\n",
      "  warnings.warn(\n",
      "C:\\Users\\olivi\\anaconda3\\Lib\\site-packages\\sklearn\\linear_model\\_sag.py:349: ConvergenceWarning: The max_iter was reached which means the coef_ did not converge\n",
      "  warnings.warn(\n",
      "C:\\Users\\olivi\\anaconda3\\Lib\\site-packages\\sklearn\\linear_model\\_sag.py:349: ConvergenceWarning: The max_iter was reached which means the coef_ did not converge\n",
      "  warnings.warn(\n",
      "C:\\Users\\olivi\\anaconda3\\Lib\\site-packages\\sklearn\\linear_model\\_sag.py:349: ConvergenceWarning: The max_iter was reached which means the coef_ did not converge\n",
      "  warnings.warn(\n",
      "C:\\Users\\olivi\\anaconda3\\Lib\\site-packages\\sklearn\\linear_model\\_sag.py:349: ConvergenceWarning: The max_iter was reached which means the coef_ did not converge\n",
      "  warnings.warn(\n",
      "C:\\Users\\olivi\\anaconda3\\Lib\\site-packages\\sklearn\\linear_model\\_sag.py:349: ConvergenceWarning: The max_iter was reached which means the coef_ did not converge\n",
      "  warnings.warn(\n"
     ]
    },
    {
     "name": "stdout",
     "output_type": "stream",
     "text": [
      "Logistic Regression Binary: {'Nested CV Accuracy': 0.8422434991890336, 'Nested CV Recall': 0.8422434991890336, 'Nested CV Precision': 0.8884809067945474, 'Nested CV F1 Score': 0.8546962103283713, 'Nested CV MCC Score': 0.7127078695670513}\n",
      "Logistic Regression Binary: {'Nested CV Accuracy': 0.7474362999005912, 'Nested CV Recall': 0.7474362999005912, 'Nested CV Precision': 0.8127042863592047, 'Nested CV F1 Score': 0.7676166834821807, 'Nested CV MCC Score': 0.5435937233405016}\n"
     ]
    }
   ],
   "source": [
    "# Create pipelines with normalization (scaling) and models\n",
    "# Define the model\n",
    "model_lr = OneVsRestClassifier(\n",
    "    LogisticRegression(class_weight='balanced', max_iter=5000, penalty='l2', solver='lbfgs')\n",
    ")\n",
    "\n",
    "# Define SMOTE for over sampling\n",
    "smote = SMOTE(sampling_strategy='auto', random_state=42)\n",
    "\n",
    "# Create a pipeline with the model\n",
    "pipeline_lr= ImPipeline([\n",
    "    ('smote', smote),\n",
    "    ('scaler', StandardScaler()),\n",
    "    ('LR', model_lr)  \n",
    "])\n",
    "\n",
    "# Set parameter grid\n",
    "param_grid_lr = {\n",
    "    'LR__estimator__C': [0.001, 0.01, 0.1, 1, 10, 100, 1000],\n",
    "    'LR__estimator__solver': ['liblinear', 'newton-cg', 'lbfgs', 'saga']\n",
    "}\n",
    "\n",
    "# Binary model results\n",
    "bin_results_lr = nested_cv(pipeline_lr, param_grid_lr, X_bin_train, y_bin_train)\n",
    "print(\"Logistic Regression Binary:\", bin_results_lr)\n",
    "\n",
    "# Ordinal model results\n",
    "ord_results_lr = nested_cv(pipeline_lr, param_grid_lr, X_ord_train, y_ord_train)\n",
    "print(\"Logistic Regression Binary:\", ord_results_lr)"
   ]
  },
  {
   "cell_type": "markdown",
   "id": "9beae0e3-146c-4f6d-b005-168a418427b7",
   "metadata": {},
   "source": [
    "### NB"
   ]
  },
  {
   "cell_type": "code",
   "execution_count": 38,
   "id": "58bd2046-c521-4d17-a9d9-3ed5f1b0ecbe",
   "metadata": {},
   "outputs": [
    {
     "name": "stdout",
     "output_type": "stream",
     "text": [
      "Naive Bayes Binary: {'Nested CV Accuracy': 0.796664573850259, 'Nested CV Recall': 0.796664573850259, 'Nested CV Precision': 0.8655684816163495, 'Nested CV F1 Score': 0.8138001909719547, 'Nested CV MCC Score': 0.6493296776518579}\n",
      "Naive Bayes Binary: {'Nested CV Accuracy': 0.7402370114581699, 'Nested CV Recall': 0.7402370114581699, 'Nested CV Precision': 0.7676530250506277, 'Nested CV F1 Score': 0.7255356827653199, 'Nested CV MCC Score': 0.4495383238234766}\n"
     ]
    }
   ],
   "source": [
    "# Define the Naive Bayes model\n",
    "model_nb = GaussianNB()  # You could also use MultinomialNB() or BernoulliNB()\n",
    "\n",
    "# Create the pipeline\n",
    "pipeline_nb = ImPipeline([\n",
    "    ('NB', model_nb)  # Naive Bayes classifier\n",
    "])\n",
    "\n",
    "# Define the hyperparameter grid (Naive Bayes usually doesn't have as many tunable parameters as other models)\n",
    "param_grid_nb = {\n",
    "    'NB__var_smoothing': [1e-9, 1e-8, 1e-7, 1e-6]  # var_smoothing is a common parameter for GaussianNB\n",
    "}\n",
    "\n",
    "# Binary model results\n",
    "bin_results_nb = nested_cv(pipeline_nb, param_grid_nb, X_bin_train, y_bin_train)\n",
    "print(\"Naive Bayes Binary:\", bin_results_nb)\n",
    "\n",
    "# Ordinal model results\n",
    "ord_results_nb = nested_cv(pipeline_nb, param_grid_nb, X_ord_train, y_ord_train)\n",
    "print(\"Naive Bayes Binary:\", ord_results_nb)"
   ]
  },
  {
   "cell_type": "markdown",
   "id": "fe079e13-693d-4d39-9802-1a64eb54dc62",
   "metadata": {},
   "source": [
    "### Model Summaries"
   ]
  },
  {
   "cell_type": "markdown",
   "id": "3369ca45-f06b-44f6-99e4-38ea2bd1e0a6",
   "metadata": {},
   "source": [
    "Since MCC is a metric that considers all types of errors, it will be prioritized when selecting a model. However, SVM outperformed every model in both binary and ordinal datasets. From the results, almost all models performed better using binary data over numerical data. There is one exception and that is KNN, it performed better on the ordinal dataset as KNN is a distance-based model. Moving forward, SVM will be tuned to find its best hyperparameters and will be fitted to the entire training dataset for both categorical and numerical datasets. We will then test both datasets to see which dataset performs better. "
   ]
  },
  {
   "cell_type": "markdown",
   "id": "97b25ed2-1fc0-4007-b24d-9ee3f60f55ec",
   "metadata": {},
   "source": [
    "## Perform Hyperparameter Tuning on the Best Model"
   ]
  },
  {
   "cell_type": "markdown",
   "id": "33effda9-58fb-4352-9a42-f852bcdab830",
   "metadata": {},
   "source": [
    "### Set Up"
   ]
  },
  {
   "cell_type": "code",
   "execution_count": 43,
   "id": "b37ce53f-222b-40f3-b96a-10ae051c2b87",
   "metadata": {},
   "outputs": [],
   "source": [
    "# Define the model with probability to true\n",
    "model_svm = SVC(class_weight = 'balanced', decision_function_shape = 'ovr', probability = True)\n",
    "\n",
    "# Create a pipeline with the model\n",
    "pipeline_svm= Pipeline([\n",
    "    ('scaler', StandardScaler(with_mean=False)),  # Normalize data\n",
    "    ('SVM', model_svm)  # SVM classifier\n",
    "])\n",
    "\n",
    "# Define the parameter grid for hyperparameter tuning\n",
    "param_grid_svm = {\n",
    "    'SVM__C': [0.1, 1, 10],   # Regularization strength\n",
    "    'SVM__kernel': ['linear', 'rbf'],  # Type of kernel to use\n",
    "    'SVM__gamma': ['scale', 0.1, 1, 10]  # Kernel coefficient\n",
    "}"
   ]
  },
  {
   "cell_type": "code",
   "execution_count": 44,
   "id": "8063d8d0-6b55-44cd-9eaf-a9a52a58f14a",
   "metadata": {},
   "outputs": [],
   "source": [
    "# Model training and tuning\n",
    "def run_grid_search(X_train, y_train, pipeline, param_grid):\n",
    "    grid = GridSearchCV(\n",
    "        estimator=pipeline,\n",
    "        param_grid=param_grid,\n",
    "        cv=3,\n",
    "        scoring='matthews_corrcoef',\n",
    "        refit=True\n",
    "    )\n",
    "    grid.fit(X_train, y_train)\n",
    "    return grid"
   ]
  },
  {
   "cell_type": "code",
   "execution_count": 45,
   "id": "0c7a65da-968e-4f64-a36d-d2703cb3404f",
   "metadata": {},
   "outputs": [],
   "source": [
    "# Final Evaluation\n",
    "def evaluate_model(model, X_test, y_test, label=\"\"):\n",
    "    y_pred = model.predict(X_test)\n",
    "    accuracy = model.score(X_test, y_test)\n",
    "    recall = recall_score(y_test, y_pred, average=\"weighted\")\n",
    "    precision = precision_score(y_test, y_pred, average=\"weighted\")\n",
    "    f1 = f1_score(y_test, y_pred, average=\"weighted\")\n",
    "    mcc = matthews_corrcoef(y_test, y_pred)\n",
    "\n",
    "    print(f\"\\n{label} Set Performance\")\n",
    "    print(f\"Best Hyperparameters: {model.best_params_}\")\n",
    "    print(f\"Accuracy:  {accuracy:.4f}\")\n",
    "    print(f\"Recall:    {recall:.4f}\")\n",
    "    print(f\"Precision: {precision:.4f}\")\n",
    "    print(f\"F1 Score:  {f1:.4f}\")\n",
    "    print(f\"MCC Score: {mcc:.4f}\")\n",
    "\n",
    "    cm = confusion_matrix(y_test, y_pred)\n",
    "    disp = ConfusionMatrixDisplay(confusion_matrix=cm, display_labels=model.best_estimator_.classes_)\n",
    "    disp.plot(cmap='Blues')"
   ]
  },
  {
   "cell_type": "code",
   "execution_count": 46,
   "id": "85060666-a10e-4ecb-82af-ffc9acb62ce9",
   "metadata": {},
   "outputs": [],
   "source": [
    "# Ordinal Mapping\n",
    "def apply_ordinal_mapping(df):\n",
    "    maps = {\n",
    "        'buying': {'vhigh': 4, 'high': 3, 'med': 2, 'low': 1},\n",
    "        'maint': {'vhigh': 4, 'high': 3, 'med': 2, 'low': 1},\n",
    "        'doors': {'2': 1, '3': 2, '4': 3, '5more': 4},\n",
    "        'persons': {'2': 1, '4': 2, 'more': 3},\n",
    "        'lug_boot': {'small': 1, 'med': 2, 'big': 3},\n",
    "        'safety': {'low': 1, 'med': 2, 'high': 3}\n",
    "    }\n",
    "    for col, mapping in maps.items():\n",
    "        df[col] = df[col].map(mapping)\n",
    "    return df"
   ]
  },
  {
   "cell_type": "markdown",
   "id": "4205bc60-bdde-45e1-b31e-08f262b209b2",
   "metadata": {},
   "source": [
    "#### Final Binary Model"
   ]
  },
  {
   "cell_type": "code",
   "execution_count": 48,
   "id": "068379be-4779-409a-81f6-167d0cd6adda",
   "metadata": {},
   "outputs": [
    {
     "name": "stdout",
     "output_type": "stream",
     "text": [
      "\n",
      "Binary Set Performance\n",
      "Best Hyperparameters: {'SVM__C': 10, 'SVM__gamma': 'scale', 'SVM__kernel': 'rbf'}\n",
      "Accuracy:  0.9869\n",
      "Recall:    0.9942\n",
      "Precision: 0.9944\n",
      "F1 Score:  0.9942\n",
      "MCC Score: 0.9869\n"
     ]
    },
    {
     "data": {
      "image/png": "[encoded data removed]",
      "text/plain": [
       "<Figure size 640x480 with 2 Axes>"
      ]
     },
     "metadata": {},
     "output_type": "display_data"
    }
   ],
   "source": [
    "# Binary Transformation\n",
    "X_bin_train_np = X_bin_train.values\n",
    "y_bin_train_np = y_bin_train.values.ravel()\n",
    "X_bin_test_np = OneHotEncoder(sparse_output=False).fit_transform(X_test_cv)\n",
    "y_bin_test_np = y_test_cv.values.ravel()\n",
    "\n",
    "# Binary results\n",
    "grid_bin = run_grid_search(X_bin_train_np, y_bin_train_np, pipeline_svm, param_grid_svm)\n",
    "evaluate_model(grid_bin, X_bin_test_np, y_bin_test_np, label=\"Binary\")"
   ]
  },
  {
   "cell_type": "markdown",
   "id": "e2e75b70-47f9-4f1d-b768-7abbf4495894",
   "metadata": {},
   "source": [
    "### Final Ordinal Model"
   ]
  },
  {
   "cell_type": "code",
   "execution_count": 50,
   "id": "f12070a3-6471-4eae-b833-e211ede099dc",
   "metadata": {},
   "outputs": [
    {
     "name": "stderr",
     "output_type": "stream",
     "text": [
      "C:\\Users\\olivi\\anaconda3\\Lib\\site-packages\\sklearn\\base.py:486: UserWarning: X has feature names, but StandardScaler was fitted without feature names\n",
      "  warnings.warn(\n",
      "C:\\Users\\olivi\\anaconda3\\Lib\\site-packages\\sklearn\\base.py:486: UserWarning: X has feature names, but StandardScaler was fitted without feature names\n",
      "  warnings.warn(\n"
     ]
    },
    {
     "name": "stdout",
     "output_type": "stream",
     "text": [
      "\n",
      "Ordinal Set Performance\n",
      "Best Hyperparameters: {'SVM__C': 10, 'SVM__gamma': 'scale', 'SVM__kernel': 'rbf'}\n",
      "Accuracy:  0.9683\n",
      "Recall:    0.9855\n",
      "Precision: 0.9865\n",
      "F1 Score:  0.9857\n",
      "MCC Score: 0.9683\n"
     ]
    },
    {
     "data": {
      "image/png": "[encoded data removed]",
      "text/plain": [
       "<Figure size 640x480 with 2 Axes>"
      ]
     },
     "metadata": {},
     "output_type": "display_data"
    }
   ],
   "source": [
    "# Ordinal Transformation\n",
    "X_ord_train_np = X_ord_train.values\n",
    "y_ord_train_np = y_ord_train.values.ravel()\n",
    "X_ord_test_df = apply_ordinal_mapping(pd.DataFrame(X_test_cv))\n",
    "y_ord_test_np = y_test_cv.values.ravel()\n",
    "\n",
    "# Ordinal Results\n",
    "grid_ord = run_grid_search(X_ord_train_np, y_ord_train_np, pipeline_svm, param_grid_svm)\n",
    "evaluate_model(grid_ord, X_ord_test_df, y_ord_test_np, label=\"Ordinal\")"
   ]
  },
  {
   "cell_type": "markdown",
   "id": "86baa27c-9109-4a5e-916a-7624e35105f1",
   "metadata": {},
   "source": [
    "## Final SVM Model Summary"
   ]
  },
  {
   "cell_type": "markdown",
   "id": "03a6fa65-f3fb-4efc-b41f-1698fcc22d56",
   "metadata": {},
   "source": [
    "Both the binary and ordinal SVM models selected a regularization strength of C = 10, indicating a lower tolerance for misclassification and a preference for a more complex decision boundary. This likely reflects the use of Matthews Correlation Coefficient (MCC) as the tuning metric, which strongly penalizes misclassified examples in imbalanced settings.\n",
    "\n",
    "Both models also selected the RBF kernel with gamma set to 'scale', which adapts based on the input feature variance. Because the ordinal dataset uses label encoding (with larger feature magnitudes) compared to the one-hot encoded binary dataset, the effective gamma value would be smaller for the ordinal model, not larger.\n",
    "\n",
    "Overall, the binary model outperformed the ordinal model across all metrics, achieving an MCC score of 0.9869 versus 0.9683. This is expected, as binary classification typically yields better performance than multi-class classification—particularly when classes are well-separated. The binary model also achieved near-perfect recall, precision, and F1 score, which aligns with a clean confusion matrix dominated by correct predictions."
   ]
  }
 ],
 "metadata": {
  "kernelspec": {
   "display_name": "Python [conda env:base] *",
   "language": "python",
   "name": "conda-base-py"
  },
  "language_info": {
   "codemirror_mode": {
    "name": "ipython",
    "version": 3
   },
   "file_extension": ".py",
   "mimetype": "text/x-python",
   "name": "python",
   "nbconvert_exporter": "python",
   "pygments_lexer": "ipython3",
   "version": "3.12.7"
  }
 },
 "nbformat": 4,
 "nbformat_minor": 5
}
